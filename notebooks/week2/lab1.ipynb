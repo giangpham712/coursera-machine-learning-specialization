{
 "cells": [
  {
   "cell_type": "markdown",
   "source": [
    "# Optional Lab: Python, NumPy and Vectorization"
   ],
   "metadata": {
    "collapsed": false
   },
   "id": "e974f1028020ae6"
  },
  {
   "cell_type": "markdown",
   "source": [
    "A brief introduction to some of the scientific computing used in this course. In particular the NumPy scientific computing package and its use with Python"
   ],
   "metadata": {
    "collapsed": false
   },
   "id": "25c0a4fadeca7e90"
  },
  {
   "cell_type": "code",
   "outputs": [],
   "source": [
    "import numpy as np\n",
    "import time"
   ],
   "metadata": {
    "collapsed": false,
    "ExecuteTime": {
     "end_time": "2024-01-16T05:08:37.955682700Z",
     "start_time": "2024-01-16T05:08:37.860773700Z"
    }
   },
   "id": "be3893afe9f8ee90",
   "execution_count": 1
  },
  {
   "cell_type": "markdown",
   "source": [
    "## Vectors"
   ],
   "metadata": {
    "collapsed": false
   },
   "id": "6fc519c3c3418107"
  },
  {
   "cell_type": "markdown",
   "source": [
    "### Vector Creation"
   ],
   "metadata": {
    "collapsed": false
   },
   "id": "7e021bcaed4728d9"
  },
  {
   "cell_type": "markdown",
   "source": [
    "Data creation routines in NumPy will generally have a first parameter which is the shape of the object. This can either be a single value for a 1-D result or a tuple (n,m,...) specifying the shape of the result. Below are examples of creating vectors using these routines."
   ],
   "metadata": {
    "collapsed": false
   },
   "id": "ec2a4ab4a38edaa7"
  },
  {
   "cell_type": "code",
   "outputs": [
    {
     "name": "stdout",
     "output_type": "stream",
     "text": [
      "np.zeros(4):    a = [0. 0. 0. 0.], a shape = (4,), a data type = float64\n",
      "np.zeros(4,):   a = [0. 0. 0. 0.], a shape = (4,), a data type = float64\n",
      "np.random.random_sample(4): a = [0.60507543 0.82686125 0.98468259 0.47130105], a shape = (4,), a data type = float64\n"
     ]
    }
   ],
   "source": [
    "# NumPy routines which allocate memory and fill arrays with value\n",
    "\n",
    "a = np.zeros(4);                print(f\"np.zeros(4):    a = {a}, a shape = {a.shape}, a data type = {a.dtype}\")\n",
    "a = np.zeros((4,));             print(f\"np.zeros(4,):   a = {a}, a shape = {a.shape}, a data type = {a.dtype}\")\n",
    "a = np.random.random_sample(4); print(f\"np.random.random_sample(4): a = {a}, a shape = {a.shape}, a data type = {a.dtype}\")"
   ],
   "metadata": {
    "collapsed": false,
    "ExecuteTime": {
     "end_time": "2024-01-16T05:40:12.284319Z",
     "start_time": "2024-01-16T05:40:12.280859200Z"
    }
   },
   "id": "7b1280caac9850a2",
   "execution_count": 5
  },
  {
   "cell_type": "code",
   "outputs": [
    {
     "name": "stdout",
     "output_type": "stream",
     "text": [
      "np.arange(4.):   a = [0. 1. 2. 3.], a shape = (4,), a data type = float64\n",
      "np.random.rand(4): a = [0.87687541 0.97771779 0.76645003 0.08274166], a shape = (4,), a data type = float64)\n"
     ]
    }
   ],
   "source": [
    "# NumPy routines which allocate memory and fill arrays with value but do not accept shape as input argument\n",
    "\n",
    "a = np.arange(4.);                  print(f\"np.arange(4.):   a = {a}, a shape = {a.shape}, a data type = {a.dtype}\")\n",
    "a = np.random.rand(4);              print(f\"np.random.rand(4): a = {a}, a shape = {a.shape}, a data type = {a.dtype})\")"
   ],
   "metadata": {
    "collapsed": false,
    "ExecuteTime": {
     "end_time": "2024-01-16T05:57:11.615330200Z",
     "start_time": "2024-01-16T05:57:11.611052200Z"
    }
   },
   "id": "e9ddd7d13e560bfc",
   "execution_count": 15
  },
  {
   "cell_type": "code",
   "outputs": [
    {
     "name": "stdout",
     "output_type": "stream",
     "text": [
      "np.array([5,4,3,2])  a = [5 4 3 2], a shape = (4,), a data type = int32\n",
      "np.array([5.,4,3,2])  a = [5. 4. 3. 2.], a shape = (4,), a data type = float64\n"
     ]
    }
   ],
   "source": [
    "a = np.array([5,4,3,2]);    print(f\"np.array([5,4,3,2])  a = {a}, a shape = {a.shape}, a data type = {a.dtype}\")\n",
    "a = np.array([5.,4,3,2]);   print(f\"np.array([5.,4,3,2])  a = {a}, a shape = {a.shape}, a data type = {a.dtype}\")"
   ],
   "metadata": {
    "collapsed": false,
    "ExecuteTime": {
     "end_time": "2024-01-16T05:57:52.646510500Z",
     "start_time": "2024-01-16T05:57:52.629747700Z"
    }
   },
   "id": "4aabda437de38d10",
   "execution_count": 18
  },
  {
   "cell_type": "markdown",
   "source": [
    "### Operations on Vectors"
   ],
   "metadata": {
    "collapsed": false
   },
   "id": "80fd424b5ada6413"
  },
  {
   "cell_type": "markdown",
   "source": [
    "#### Indexing"
   ],
   "metadata": {
    "collapsed": false
   },
   "id": "135283f05e251ffc"
  },
  {
   "cell_type": "code",
   "outputs": [
    {
     "name": "stdout",
     "output_type": "stream",
     "text": [
      "[0 1 2 3 4 5 6 7 8 9]\n",
      "a[2].shape: () a[2] = 2, Accessing an element returns a scalar\n",
      "a[-1] = 9\n",
      "Error: index 10 is out of bounds for axis 0 with size 10\n"
     ]
    }
   ],
   "source": [
    "# vector indexing operations on 1-D vectors\n",
    "a = np.arange(10)\n",
    "print(a)\n",
    "\n",
    "# access an element\n",
    "print(f\"a[2].shape: {a[2].shape} a[2] = {a[2]}, Accessing an element returns a scalar\")\n",
    "\n",
    "# access the last element, negative indexes count from the end\n",
    "print(f\"a[-1] = {a[-1]}\")\n",
    "\n",
    "try:\n",
    "    c = a[10]\n",
    "except Exception as e:\n",
    "    print(f\"Error: {e}\")"
   ],
   "metadata": {
    "collapsed": false,
    "ExecuteTime": {
     "end_time": "2024-01-16T06:00:12.098743800Z",
     "start_time": "2024-01-16T06:00:12.087540600Z"
    }
   },
   "id": "17a4cfbfbcffab67",
   "execution_count": 21
  },
  {
   "cell_type": "markdown",
   "source": [
    "#### Slicing\n",
    "Slicing creates an array of indices using a set of three values (`start:stop:step`). A subset of values is also valid. Its use is best explained by example:"
   ],
   "metadata": {
    "collapsed": false
   },
   "id": "7b497d72dbc349c2"
  },
  {
   "cell_type": "code",
   "outputs": [
    {
     "name": "stdout",
     "output_type": "stream",
     "text": [
      "a[2:7:1] = [2 3 4 5 6]\n",
      "a[2:7:2] = [2 4 6]\n",
      "a[3:]: [3 4 5 6 7 8 9]\n",
      "a[:3]: [0 1 2]\n",
      "a[:3]: [0 1 2 3 4 5 6 7 8 9]\n"
     ]
    }
   ],
   "source": [
    "a = np.arange(10)\n",
    "\n",
    "c = a[2:7:1];   print(f\"a[2:7:1] = {c}\")\n",
    "\n",
    "c = a[2:7:2];   print(f\"a[2:7:2] = {c}\")\n",
    "\n",
    "c = a[3:];      print(f\"a[3:]: {c}\")\n",
    "\n",
    "c = a[:3];      print(f\"a[:3]: {c}\")\n",
    "\n",
    "c = a[:];       print(f\"a[:3]: {c}\")"
   ],
   "metadata": {
    "collapsed": false,
    "ExecuteTime": {
     "end_time": "2024-01-16T06:08:28.916980400Z",
     "start_time": "2024-01-16T06:08:28.914624100Z"
    }
   },
   "id": "36a3047cacd52247",
   "execution_count": 29
  },
  {
   "cell_type": "code",
   "outputs": [],
   "source": [],
   "metadata": {
    "collapsed": false
   },
   "id": "8b434f7dc576279b"
  },
  {
   "cell_type": "markdown",
   "source": [
    "#### Single vector operations"
   ],
   "metadata": {
    "collapsed": false
   },
   "id": "b420de7b6c5e8945"
  },
  {
   "cell_type": "code",
   "outputs": [
    {
     "name": "stdout",
     "output_type": "stream",
     "text": [
      "b = -a: [-1 -2 -3 -4]\n",
      "b = np.sum(a): 10\n",
      "b = np.mean(a): 2.5\n",
      "b = a**2: [ 1  4  9 16]\n"
     ]
    }
   ],
   "source": [
    "a = np.array([1,2,3,4])\n",
    "\n",
    "# negate elements of a\n",
    "b = -a\n",
    "print(f\"b = -a: {b}\")\n",
    "\n",
    "b = np.sum(a)\n",
    "print(f\"b = np.sum(a): {b}\")\n",
    "\n",
    "b = np.mean(a)\n",
    "print(f\"b = np.mean(a): {b}\")\n",
    "\n",
    "b = a**2\n",
    "print(f\"b = a**2: {b}\")"
   ],
   "metadata": {
    "collapsed": false,
    "ExecuteTime": {
     "end_time": "2024-01-16T06:13:54.483936Z",
     "start_time": "2024-01-16T06:13:54.480833Z"
    }
   },
   "id": "c7d87f63082aca5c",
   "execution_count": 34
  },
  {
   "cell_type": "markdown",
   "source": [
    "#### Vector Vector element-wise operations"
   ],
   "metadata": {
    "collapsed": false
   },
   "id": "1e45de3a96465079"
  },
  {
   "cell_type": "code",
   "outputs": [
    {
     "name": "stdout",
     "output_type": "stream",
     "text": [
      "Binary operators work element wise: [0 0 6 8]\n",
      "Error: operands could not be broadcast together with shapes (4,) (2,) \n"
     ]
    }
   ],
   "source": [
    "a = np.array([1,2,3,4])\n",
    "b = np.array([-1,-2,3,4])\n",
    "print(f\"Binary operators work element wise: {a + b}\")\n",
    "\n",
    "c = np.array([1,2])\n",
    "\n",
    "try:\n",
    "    d = a + c\n",
    "except Exception as e:\n",
    "    print(f\"Error: {e}\")"
   ],
   "metadata": {
    "collapsed": false,
    "ExecuteTime": {
     "end_time": "2024-01-16T06:23:20.725518300Z",
     "start_time": "2024-01-16T06:23:20.722229Z"
    }
   },
   "id": "2ed010ea6af09892",
   "execution_count": 36
  },
  {
   "cell_type": "markdown",
   "source": [
    "#### Scalar Vector operations"
   ],
   "metadata": {
    "collapsed": false
   },
   "id": "9b195f42e309d61"
  },
  {
   "cell_type": "code",
   "outputs": [
    {
     "name": "stdout",
     "output_type": "stream",
     "text": [
      "b = 5 * a: [ 5 10 15 20]\n"
     ]
    }
   ],
   "source": [
    "a = np.array([1,2,3,4])\n",
    "\n",
    "b = 5 * a\n",
    "print(f\"b = 5 * a: {b}\")"
   ],
   "metadata": {
    "collapsed": false,
    "ExecuteTime": {
     "end_time": "2024-01-16T06:24:09.727898900Z",
     "start_time": "2024-01-16T06:24:09.724547900Z"
    }
   },
   "id": "6b4ed1d8488bc692",
   "execution_count": 37
  },
  {
   "cell_type": "markdown",
   "source": [
    "#### Vector Vector dot product"
   ],
   "metadata": {
    "collapsed": false
   },
   "id": "44adf9977480c73b"
  },
  {
   "cell_type": "markdown",
   "source": [
    "![alt text](images/C1_W2_Lab04_dot_notrans.gif \"Title\")"
   ],
   "metadata": {
    "collapsed": false
   },
   "id": "89e216ebf5be4052"
  },
  {
   "cell_type": "markdown",
   "source": [
    "The dot product multiplies the values in two vectors element-wise and then sums the result.\n",
    "Vector dot product requires the dimensions of the two vectors to be the same. "
   ],
   "metadata": {
    "collapsed": false
   },
   "id": "bef08f6a15a07ea1"
  },
  {
   "cell_type": "code",
   "outputs": [],
   "source": [
    "def my_dot(a, b):\n",
    "    \"\"\"\n",
    "    Compute the dot product of two arrays\n",
    "    :param a: \n",
    "    :param b: \n",
    "    :return: \n",
    "    \"\"\"\n",
    "    x = 0\n",
    "    for i in range(a.shape[0]):\n",
    "        x = x + a[i] * b[i]\n",
    "    return x"
   ],
   "metadata": {
    "collapsed": false,
    "ExecuteTime": {
     "end_time": "2024-01-16T06:33:12.875651700Z",
     "start_time": "2024-01-16T06:33:12.851497300Z"
    }
   },
   "id": "e13b5625a1b20fc7",
   "execution_count": 39
  },
  {
   "cell_type": "code",
   "outputs": [
    {
     "name": "stdout",
     "output_type": "stream",
     "text": [
      "my_dot(a, b) = 24\n"
     ]
    }
   ],
   "source": [
    "a = np.array([1, 2, 3, 4])\n",
    "b = np.array([-1, 4 ,3 ,2])\n",
    "print(f\"my_dot(a, b) = {my_dot(a, b)}\")"
   ],
   "metadata": {
    "collapsed": false,
    "ExecuteTime": {
     "end_time": "2024-01-16T06:34:17.578457900Z",
     "start_time": "2024-01-16T06:34:17.553004300Z"
    }
   },
   "id": "4a5534bddb63c50f",
   "execution_count": 41
  },
  {
   "cell_type": "code",
   "outputs": [
    {
     "name": "stdout",
     "output_type": "stream",
     "text": [
      "np.dot(a, b) = 24\n",
      "np.dot(b, a) = 24\n"
     ]
    }
   ],
   "source": [
    "a = np.array([1, 2, 3, 4])\n",
    "b = np.array([-1, 4 ,3 ,2])\n",
    "c = np.dot(a, b)\n",
    "print(f\"np.dot(a, b) = {c}\")\n",
    "c = np.dot(b, a)\n",
    "print(f\"np.dot(b, a) = {c}\")"
   ],
   "metadata": {
    "collapsed": false,
    "ExecuteTime": {
     "end_time": "2024-01-16T06:35:42.974541400Z",
     "start_time": "2024-01-16T06:35:42.949746700Z"
    }
   },
   "id": "c2242c43b7e106bd",
   "execution_count": 42
  },
  {
   "cell_type": "code",
   "outputs": [
    {
     "name": "stdout",
     "output_type": "stream",
     "text": [
      "np.dot(a, b) =  2501072.5817\n",
      "Vectorized version duration: 28.3377 ms \n",
      "my_dot(a, b) =  2501072.5817\n",
      "loop version duration: 1976.5058 ms \n"
     ]
    }
   ],
   "source": [
    "np.random.seed(1)\n",
    "a = np.random.rand(10000000)  # very large arrays\n",
    "b = np.random.rand(10000000)\n",
    "\n",
    "tic = time.time()  # capture start time\n",
    "c = np.dot(a, b)\n",
    "toc = time.time()  # capture end time\n",
    "\n",
    "print(f\"np.dot(a, b) =  {c:.4f}\")\n",
    "print(f\"Vectorized version duration: {1000*(toc-tic):.4f} ms \")\n",
    "\n",
    "tic = time.time()  # capture start time\n",
    "c = my_dot(a,b)\n",
    "toc = time.time()  # capture end time\n",
    "\n",
    "print(f\"my_dot(a, b) =  {c:.4f}\")\n",
    "print(f\"loop version duration: {1000*(toc-tic):.4f} ms \")\n",
    "\n",
    "del a\n",
    "del b  #remove these big arrays from memory"
   ],
   "metadata": {
    "collapsed": false,
    "ExecuteTime": {
     "end_time": "2024-01-16T06:44:22.985499400Z",
     "start_time": "2024-01-16T06:44:20.844993600Z"
    }
   },
   "id": "e2943aff134c470b",
   "execution_count": 43
  },
  {
   "cell_type": "markdown",
   "source": [
    "So, vectorization provides a large speed up in this example. This is because NumPy makes better use of available data parallelism in the underlying hardware. GPU's and modern CPU's implement Single Instruction, Multiple Data (SIMD) pipelines allowing multiple operations to be issued in parallel. This is critical in Machine Learning where the data sets are often very large."
   ],
   "metadata": {
    "collapsed": false
   },
   "id": "ed9920f582e8937e"
  },
  {
   "cell_type": "markdown",
   "source": [
    "#### Vector Vector operations in Course 1"
   ],
   "metadata": {
    "collapsed": false
   },
   "id": "e93ffd24eb1452bb"
  },
  {
   "cell_type": "code",
   "outputs": [
    {
     "name": "stdout",
     "output_type": "stream",
     "text": [
      "X[1] has shape (1,)\n",
      "w has shape (1,)\n",
      "c has shape ()\n"
     ]
    }
   ],
   "source": [
    "X = np.array([[1],[2],[3],[4]])\n",
    "w = np.array([2])\n",
    "c = np.dot(X[1], w)\n",
    "\n",
    "print(f\"X[1] has shape {X[1].shape}\")\n",
    "print(f\"w has shape {w.shape}\")\n",
    "print(f\"c has shape {c.shape}\")\n"
   ],
   "metadata": {
    "collapsed": false,
    "ExecuteTime": {
     "end_time": "2024-01-16T06:53:22.902522800Z",
     "start_time": "2024-01-16T06:53:22.875138100Z"
    }
   },
   "id": "7c71e9f55b75258c",
   "execution_count": 47
  },
  {
   "cell_type": "markdown",
   "source": [
    "## Matrices"
   ],
   "metadata": {
    "collapsed": false
   },
   "id": "9eaff5778ae9a664"
  },
  {
   "cell_type": "markdown",
   "source": [
    "![alt text](images/C1_W2_Lab04_Matrices.png \"Title\")"
   ],
   "metadata": {
    "collapsed": false
   },
   "id": "6bbd52c3396a6a7b"
  },
  {
   "cell_type": "markdown",
   "source": [
    "### Matrix Creation"
   ],
   "metadata": {
    "collapsed": false
   },
   "id": "bdd1652ba8005e0d"
  },
  {
   "cell_type": "code",
   "outputs": [
    {
     "name": "stdout",
     "output_type": "stream",
     "text": [
      "a shape = (1, 5), a = [[0. 0. 0. 0. 0.]]\n",
      "a shape = (2, 1), a = [[0.]\n",
      " [0.]]\n",
      "a shape = (1, 1), a = [[0.44236513]]\n"
     ]
    }
   ],
   "source": [
    "a = np.zeros((1, 5))\n",
    "print(f\"a shape = {a.shape}, a = {a}\")\n",
    "\n",
    "a = np.zeros((2, 1))\n",
    "print(f\"a shape = {a.shape}, a = {a}\")\n",
    "\n",
    "a = np.random.random_sample((1, 1))\n",
    "print(f\"a shape = {a.shape}, a = {a}\")\n"
   ],
   "metadata": {
    "collapsed": false,
    "ExecuteTime": {
     "end_time": "2024-01-16T07:03:28.253431400Z",
     "start_time": "2024-01-16T07:03:28.246735700Z"
    }
   },
   "id": "78451772beb2b995",
   "execution_count": 55
  },
  {
   "cell_type": "code",
   "outputs": [
    {
     "name": "stdout",
     "output_type": "stream",
     "text": [
      "a shape = (3, 1), a = [[5]\n",
      " [4]\n",
      " [3]]\n",
      "a shape = (3, 1) a = [[5]\n",
      " [4]\n",
      " [3]]\n"
     ]
    }
   ],
   "source": [
    "a = np.array([[5],[4],[3]]);        print(f\"a shape = {a.shape}, a = {a}\")\n",
    "a = np.array([[5],\n",
    "              [4],\n",
    "              [3]])\n",
    "print(f\"a shape = {a.shape} a = {a}\")"
   ],
   "metadata": {
    "collapsed": false,
    "ExecuteTime": {
     "end_time": "2024-01-16T07:07:48.566306200Z",
     "start_time": "2024-01-16T07:07:48.528472500Z"
    }
   },
   "id": "cd9b2d0438708d5b",
   "execution_count": 59
  },
  {
   "cell_type": "markdown",
   "source": [
    "### Operations on Matrices"
   ],
   "metadata": {
    "collapsed": false
   },
   "id": "4697f16f83c578d6"
  },
  {
   "cell_type": "markdown",
   "source": [
    "#### Indexing"
   ],
   "metadata": {
    "collapsed": false
   },
   "id": "8ff5d1e70308a19b"
  },
  {
   "cell_type": "markdown",
   "source": [
    "Matrices include a second index. The two indexes describe [row, column]. Access can either return an element or a row/column."
   ],
   "metadata": {
    "collapsed": false
   },
   "id": "728be18d8ed9f6e5"
  },
  {
   "cell_type": "code",
   "outputs": [
    {
     "name": "stdout",
     "output_type": "stream",
     "text": [
      "a.shape: (3, 2), \n",
      "a = [[0 1]\n",
      " [2 3]\n",
      " [4 5]]\n",
      "\n",
      "a[2,0].shape: (), a[2,0] = 4\n",
      "a[2].shape: (2,), a[2] = [4 5]\n"
     ]
    }
   ],
   "source": [
    "a = np.arange(6).reshape(-1, 2)\n",
    "print(f\"a.shape: {a.shape}, \\na = {a}\")\n",
    "\n",
    "# access an element\n",
    "print(f\"\\na[2,0].shape: {a[2,0].shape}, a[2,0] = {a[2,0]}\")\n",
    "\n",
    "# access a row\n",
    "print(f\"a[2].shape: {a[2].shape}, a[2] = {a[2]}\")"
   ],
   "metadata": {
    "collapsed": false,
    "ExecuteTime": {
     "end_time": "2024-01-16T07:27:44.579138600Z",
     "start_time": "2024-01-16T07:27:44.548820800Z"
    }
   },
   "id": "2641c58fd09258cd",
   "execution_count": 65
  },
  {
   "cell_type": "markdown",
   "source": [
    "#### Slicing"
   ],
   "metadata": {
    "collapsed": false
   },
   "id": "6aa08c3cc06a7585"
  },
  {
   "cell_type": "code",
   "outputs": [
    {
     "name": "stdout",
     "output_type": "stream",
     "text": [
      "[[ 0  1  2  3  4  5  6  7  8  9]\n",
      " [10 11 12 13 14 15 16 17 18 19]]\n",
      "a[0, 2:7:1] =  [2 3 4 5 6]\n",
      "a[:, 2:7:1] = \n",
      " [[ 2  3  4  5  6]\n",
      " [12 13 14 15 16]]\n",
      "a[:,:] = \n",
      " [[ 0  1  2  3  4  5  6  7  8  9]\n",
      " [10 11 12 13 14 15 16 17 18 19]]\n",
      "a[1,:] =  [10 11 12 13 14 15 16 17 18 19]\n",
      "a[1] =  [10 11 12 13 14 15 16 17 18 19]\n"
     ]
    }
   ],
   "source": [
    "a = np.arange(20).reshape(-1, 10)\n",
    "print(a)\n",
    "\n",
    "# access 5 consecutive elements (start:stop:step)\n",
    "print(\"a[0, 2:7:1] = \", a[0, 2:7:1])\n",
    "\n",
    "# access 5 consecutive elements (start:stop:step) in two rows\n",
    "print(\"a[:, 2:7:1] = \\n\", a[:, 2:7:1])\n",
    "\n",
    "# access all elements\n",
    "print(\"a[:,:] = \\n\", a[:,:])\n",
    "\n",
    "# access all elements in one row (very common usage)\n",
    "print(\"a[1,:] = \", a[1,:])\n",
    "\n",
    "print(\"a[1] = \", a[1])"
   ],
   "metadata": {
    "collapsed": false,
    "ExecuteTime": {
     "end_time": "2024-01-16T07:45:53.500133900Z",
     "start_time": "2024-01-16T07:45:53.473197400Z"
    }
   },
   "id": "a924ba16ed307fe5",
   "execution_count": 73
  },
  {
   "cell_type": "code",
   "outputs": [],
   "source": [],
   "metadata": {
    "collapsed": false
   },
   "id": "70339f52476d07ef"
  }
 ],
 "metadata": {
  "kernelspec": {
   "display_name": "Python 3",
   "language": "python",
   "name": "python3"
  },
  "language_info": {
   "codemirror_mode": {
    "name": "ipython",
    "version": 2
   },
   "file_extension": ".py",
   "mimetype": "text/x-python",
   "name": "python",
   "nbconvert_exporter": "python",
   "pygments_lexer": "ipython2",
   "version": "2.7.6"
  }
 },
 "nbformat": 4,
 "nbformat_minor": 5
}
